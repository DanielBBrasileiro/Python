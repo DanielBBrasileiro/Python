{
 "cells": [
  {
   "cell_type": "code",
   "execution_count": 3,
   "metadata": {},
   "outputs": [
    {
     "name": "stdout",
     "output_type": "stream",
     "text": [
      "  Product_ID     Category   Price  Quantity  Rating  In_Stock  Weight_lbs  \\\n",
      "0      P1001       Sports  288.93         5       4      True         7.1   \n",
      "1      P1002     Clothing  373.56        45       3      True        13.2   \n",
      "2      P1003       Sports   19.48        39       5     False         5.0   \n",
      "3      P1004  Electronics   36.52        11       5      True        17.6   \n",
      "4      P1005  Electronics  461.02        16       4     False        15.4   \n",
      "5      P1006       Sports  269.28        13       4     False        19.1   \n",
      "6      P1007       Sports  220.79        47       3     False        11.2   \n",
      "7      P1008       Sports  101.68         6       5     False        17.1   \n",
      "8      P1009       Sports  319.60        47       1     False        10.8   \n",
      "9     P10010         Home  277.24        29       2     False         8.8   \n",
      "\n",
      "   Shipping_Days Supplier Last_Order  \n",
      "0              3  Walmart 2023-01-01  \n",
      "1              6   Target 2023-01-02  \n",
      "2              5  BestBuy 2023-01-03  \n",
      "3              2  BestBuy 2023-01-04  \n",
      "4              8   Amazon 2023-01-05  \n",
      "5              7   Target 2023-01-06  \n",
      "6              1    Local 2023-01-07  \n",
      "7              9    Local 2023-01-08  \n",
      "8              8  Walmart 2023-01-09  \n",
      "9              4  Walmart 2023-01-10  \n"
     ]
    }
   ],
   "source": [
    "# information about DataFrame\n",
    "import pandas as pd\n",
    "import numpy as np\n",
    "\n",
    "data = {\n",
    "    'Product_ID': ['P100'+str(i) for i in range(1, 11)],\n",
    "    'Category': np.random.choice(['Electronics', 'Clothing', 'Home', 'Sports'], 10),\n",
    "    'Price': np.round(np.random.uniform(10, 500, 10), 2),\n",
    "    'Quantity': np.random.randint(1, 50, 10),\n",
    "    'Rating': np.random.randint(1, 6, 10),\n",
    "    'In_Stock': np.random.choice([True, False], 10),\n",
    "    'Weight_lbs': np.round(np.random.uniform(0.5, 20, 10), 1),\n",
    "    'Shipping_Days': np.random.randint(1, 10, 10),\n",
    "    'Supplier': np.random.choice(['Amazon', 'Walmart', 'BestBuy', 'Target', 'Local'], 10),\n",
    "    'Last_Order': pd.date_range(start='2023-01-01', periods=10)\n",
    "}\n",
    "\n",
    "df = pd.DataFrame(data)\n",
    "\n",
    "print(df)\n"
   ]
  },
  {
   "cell_type": "code",
   "execution_count": 4,
   "metadata": {},
   "outputs": [
    {
     "name": "stdout",
     "output_type": "stream",
     "text": [
      "dimension: (10, 10)\n",
      "\n",
      "type of variables:\n",
      "Product_ID               object\n",
      "Category                 object\n",
      "Price                   float64\n",
      "Quantity                  int64\n",
      "Rating                    int64\n",
      "In_Stock                   bool\n",
      "Weight_lbs              float64\n",
      "Shipping_Days             int64\n",
      "Supplier                 object\n",
      "Last_Order       datetime64[ns]\n",
      "dtype: object\n",
      "\n",
      "<class 'pandas.core.frame.DataFrame'>\n",
      "RangeIndex: 10 entries, 0 to 9\n",
      "Data columns (total 10 columns):\n",
      " #   Column         Non-Null Count  Dtype         \n",
      "---  ------         --------------  -----         \n",
      " 0   Product_ID     10 non-null     object        \n",
      " 1   Category       10 non-null     object        \n",
      " 2   Price          10 non-null     float64       \n",
      " 3   Quantity       10 non-null     int64         \n",
      " 4   Rating         10 non-null     int64         \n",
      " 5   In_Stock       10 non-null     bool          \n",
      " 6   Weight_lbs     10 non-null     float64       \n",
      " 7   Shipping_Days  10 non-null     int64         \n",
      " 8   Supplier       10 non-null     object        \n",
      " 9   Last_Order     10 non-null     datetime64[ns]\n",
      "dtypes: bool(1), datetime64[ns](1), float64(2), int64(3), object(3)\n",
      "memory usage: 862.0+ bytes\n",
      "None\n",
      "\n",
      "<bound method NDFrame.describe of   Product_ID     Category   Price  Quantity  Rating  In_Stock  Weight_lbs  \\\n",
      "0      P1001       Sports  288.93         5       4      True         7.1   \n",
      "1      P1002     Clothing  373.56        45       3      True        13.2   \n",
      "2      P1003       Sports   19.48        39       5     False         5.0   \n",
      "3      P1004  Electronics   36.52        11       5      True        17.6   \n",
      "4      P1005  Electronics  461.02        16       4     False        15.4   \n",
      "5      P1006       Sports  269.28        13       4     False        19.1   \n",
      "6      P1007       Sports  220.79        47       3     False        11.2   \n",
      "7      P1008       Sports  101.68         6       5     False        17.1   \n",
      "8      P1009       Sports  319.60        47       1     False        10.8   \n",
      "9     P10010         Home  277.24        29       2     False         8.8   \n",
      "\n",
      "   Shipping_Days Supplier Last_Order  \n",
      "0              3  Walmart 2023-01-01  \n",
      "1              6   Target 2023-01-02  \n",
      "2              5  BestBuy 2023-01-03  \n",
      "3              2  BestBuy 2023-01-04  \n",
      "4              8   Amazon 2023-01-05  \n",
      "5              7   Target 2023-01-06  \n",
      "6              1    Local 2023-01-07  \n",
      "7              9    Local 2023-01-08  \n",
      "8              8  Walmart 2023-01-09  \n",
      "9              4  Walmart 2023-01-10  >\n"
     ]
    }
   ],
   "source": [
    "print('dimension:',df.shape) # dimensions\n",
    "print()\n",
    "print('type of variables:') # types\n",
    "print(df.dtypes)\n",
    "print()\n",
    "print(df.info())\n",
    "print()\n",
    "print(df.describe)"
   ]
  },
  {
   "cell_type": "code",
   "execution_count": null,
   "metadata": {},
   "outputs": [
    {
     "name": "stdout",
     "output_type": "stream",
     "text": [
      "  Product_ID  Category   Price  Quantity  Rating  In_Stock  Weight_lbs  \\\n",
      "0      P1001    Sports  288.93         5       4      True         7.1   \n",
      "1      P1002  Clothing  373.56        45       3      True        13.2   \n",
      "\n",
      "   Shipping_Days Supplier Last_Order  \n",
      "0              3  Walmart 2023-01-01  \n",
      "1              6   Target 2023-01-02  \n",
      "\n",
      "  Product_ID Category   Price  Quantity  Rating  In_Stock  Weight_lbs  \\\n",
      "8      P1009   Sports  319.60        47       1     False        10.8   \n",
      "9     P10010     Home  277.24        29       2     False         8.8   \n",
      "\n",
      "   Shipping_Days Supplier Last_Order  \n",
      "8              8  Walmart 2023-01-09  \n",
      "9              4  Walmart 2023-01-10  \n",
      "\n",
      "<bound method NDFrame.sample of   Product_ID     Category   Price  Quantity  Rating  In_Stock  Weight_lbs  \\\n",
      "0      P1001       Sports  288.93         5       4      True         7.1   \n",
      "1      P1002     Clothing  373.56        45       3      True        13.2   \n",
      "2      P1003       Sports   19.48        39       5     False         5.0   \n",
      "3      P1004  Electronics   36.52        11       5      True        17.6   \n",
      "4      P1005  Electronics  461.02        16       4     False        15.4   \n",
      "5      P1006       Sports  269.28        13       4     False        19.1   \n",
      "6      P1007       Sports  220.79        47       3     False        11.2   \n",
      "7      P1008       Sports  101.68         6       5     False        17.1   \n",
      "8      P1009       Sports  319.60        47       1     False        10.8   \n",
      "9     P10010         Home  277.24        29       2     False         8.8   \n",
      "\n",
      "   Shipping_Days Supplier Last_Order  \n",
      "0              3  Walmart 2023-01-01  \n",
      "1              6   Target 2023-01-02  \n",
      "2              5  BestBuy 2023-01-03  \n",
      "3              2  BestBuy 2023-01-04  \n",
      "4              8   Amazon 2023-01-05  \n",
      "5              7   Target 2023-01-06  \n",
      "6              1    Local 2023-01-07  \n",
      "7              9    Local 2023-01-08  \n",
      "8              8  Walmart 2023-01-09  \n",
      "9              4  Walmart 2023-01-10  >\n"
     ]
    }
   ],
   "source": [
    "# view of some lines\n",
    "print(df.head(2)) # first 2 lines\n",
    "print()\n",
    "print(df.tail(2)) # last 2 lines\n",
    "print()\n",
    "print(df.sample) # random lines"
   ]
  },
  {
   "cell_type": "code",
   "execution_count": 10,
   "metadata": {},
   "outputs": [
    {
     "name": "stdout",
     "output_type": "stream",
     "text": [
      "Product_ID       0\n",
      "Category         0\n",
      "Price            0\n",
      "Quantity         0\n",
      "Rating           0\n",
      "In_Stock         0\n",
      "Weight_lbs       0\n",
      "Shipping_Days    0\n",
      "Supplier         0\n",
      "Last_Order       0\n",
      "dtype: int64\n",
      "\n",
      "  Product_ID     Category   Price  Quantity  Rating  In_Stock  Weight_lbs  \\\n",
      "0      P1001       Sports  288.93         5       4      True         7.1   \n",
      "1      P1002     Clothing  373.56        45       3      True        13.2   \n",
      "4      P1005  Electronics  461.02        16       4     False        15.4   \n",
      "5      P1006       Sports  269.28        13       4     False        19.1   \n",
      "6      P1007       Sports  220.79        47       3     False        11.2   \n",
      "8      P1009       Sports  319.60        47       1     False        10.8   \n",
      "9     P10010         Home  277.24        29       2     False         8.8   \n",
      "\n",
      "   Shipping_Days Supplier Last_Order  \n",
      "0              3  Walmart 2023-01-01  \n",
      "1              6   Target 2023-01-02  \n",
      "4              8   Amazon 2023-01-05  \n",
      "5              7   Target 2023-01-06  \n",
      "6              1    Local 2023-01-07  \n",
      "8              8  Walmart 2023-01-09  \n",
      "9              4  Walmart 2023-01-10  \n"
     ]
    }
   ],
   "source": [
    "# null values\n",
    "print(df.isnull().sum())\n",
    "print()\n",
    "print(df.query('Price > 200'))"
   ]
  },
  {
   "cell_type": "code",
   "execution_count": null,
   "metadata": {},
   "outputs": [],
   "source": []
  }
 ],
 "metadata": {
  "kernelspec": {
   "display_name": "Python 3",
   "language": "python",
   "name": "python3"
  },
  "language_info": {
   "codemirror_mode": {
    "name": "ipython",
    "version": 3
   },
   "file_extension": ".py",
   "mimetype": "text/x-python",
   "name": "python",
   "nbconvert_exporter": "python",
   "pygments_lexer": "ipython3",
   "version": "3.13.1"
  }
 },
 "nbformat": 4,
 "nbformat_minor": 2
}
