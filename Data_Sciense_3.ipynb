{
 "cells": [
  {
   "cell_type": "code",
   "execution_count": 10,
   "metadata": {},
   "outputs": [],
   "source": [
    "import pandas as pd\n",
    "data = {\n",
    "        \"Emplyee_ID\": [1, 2, 3, 4, 5], \n",
    "        \"Name\": [\"John\", \"Sarah\",\"Mike\", \"Lisa\", \"David\"],\n",
    "        \"Department\": [\"Marketing\", \"Engeneering\", \"HR\", \"Marketing\", \"Engeneering\"]\n",
    "    }\n",
    "\n",
    "df = pd.DataFrame(data)"
   ]
  },
  {
   "cell_type": "code",
   "execution_count": 18,
   "metadata": {},
   "outputs": [
    {
     "name": "stdout",
     "output_type": "stream",
     "text": [
      "   Emplyee_ID   Name   Department\n",
      "1           2  Sarah  Engeneering\n",
      "4           5  David  Engeneering\n"
     ]
    }
   ],
   "source": [
    "df.info\n",
    "\n",
    "# add filter\n",
    "print(df[df[\"Department\"] == \"Engeneering\"])"
   ]
  },
  {
   "cell_type": "code",
   "execution_count": 31,
   "metadata": {},
   "outputs": [
    {
     "name": "stdout",
     "output_type": "stream",
     "text": [
      "0     5000\n",
      "1     4000\n",
      "2    10000\n",
      "3    45454\n",
      "4    43955\n",
      "Name: Salary, dtype: int64\n"
     ]
    }
   ],
   "source": [
    "df[\"Salary\"] = [5000, 4000, 10000, 45454, 43955]\n",
    "\n",
    "print(df[\"Salary\"])\n"
   ]
  },
  {
   "cell_type": "code",
   "execution_count": 35,
   "metadata": {},
   "outputs": [
    {
     "name": "stdout",
     "output_type": "stream",
     "text": [
      "0      5000\n",
      "1      4000\n",
      "2     10000\n",
      "3     45454\n",
      "4    500000\n",
      "Name: Salary, dtype: int64\n"
     ]
    }
   ],
   "source": [
    "# modify\n",
    "df.loc[df[\"Name\"] == \"David\", \"Salary\"] = 500000\n",
    "\n",
    "print(df[\"Salary\"])"
   ]
  },
  {
   "cell_type": "code",
   "execution_count": 37,
   "metadata": {},
   "outputs": [
    {
     "name": "stdout",
     "output_type": "stream",
     "text": [
      "   Emplyee_ID   Name   Department  Salary\n",
      "4           5  David  Engeneering  500000\n",
      "3           4   Lisa    Marketing   45454\n",
      "2           3   Mike           HR   10000\n",
      "0           1   John    Marketing    5000\n",
      "1           2  Sarah  Engeneering    4000\n"
     ]
    }
   ],
   "source": [
    "# sort\n",
    "\n",
    "print(df.sort_values(by=\"Salary\", ascending = False))"
   ]
  },
  {
   "cell_type": "code",
   "execution_count": 39,
   "metadata": {},
   "outputs": [
    {
     "name": "stdout",
     "output_type": "stream",
     "text": [
      "    Name   Age            City\n",
      "0  Alice  25.0       São Paulo\n",
      "1    Bob   NaN  Rio de Janeiro\n",
      "2   None  22.0  Belo Horizonte\n"
     ]
    }
   ],
   "source": [
    "# Null values\n",
    "\n",
    "# Criando um DataFrame com valores nulos\n",
    "data = {\n",
    "    \"Name\": [\"Alice\", \"Bob\", None],\n",
    "    \"Age\": [25, None, 22],\n",
    "    \"City\": [\"São Paulo\", \"Rio de Janeiro\", \"Belo Horizonte\"]\n",
    "}\n",
    "df2 = pd.DataFrame(data)\n",
    "\n",
    "print(df2)"
   ]
  },
  {
   "cell_type": "code",
   "execution_count": 41,
   "metadata": {},
   "outputs": [
    {
     "name": "stdout",
     "output_type": "stream",
     "text": [
      "    Name    Age   City\n",
      "0  False  False  False\n",
      "1  False   True  False\n",
      "2   True  False  False\n"
     ]
    }
   ],
   "source": [
    "print(df2.isnull())"
   ]
  },
  {
   "cell_type": "code",
   "execution_count": 46,
   "metadata": {},
   "outputs": [
    {
     "name": "stdout",
     "output_type": "stream",
     "text": [
      "           Name   Age            City\n",
      "0         Alice  25.0       São Paulo\n",
      "1           Bob  23.5  Rio de Janeiro\n",
      "2  Desconhecido  22.0  Belo Horizonte\n"
     ]
    }
   ],
   "source": [
    "# Filling the null values\n",
    "\n",
    "df2.fillna({\"Name\": \"Desconhecido\", \"Age\": df2[\"Age\"].mean()}, inplace=True)\n",
    "\n",
    "print(df2)"
   ]
  }
 ],
 "metadata": {
  "kernelspec": {
   "display_name": "Python 3",
   "language": "python",
   "name": "python3"
  },
  "language_info": {
   "codemirror_mode": {
    "name": "ipython",
    "version": 3
   },
   "file_extension": ".py",
   "mimetype": "text/x-python",
   "name": "python",
   "nbconvert_exporter": "python",
   "pygments_lexer": "ipython3",
   "version": "3.13.1"
  }
 },
 "nbformat": 4,
 "nbformat_minor": 2
}
