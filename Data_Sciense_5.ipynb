{
 "cells": [
  {
   "cell_type": "code",
   "execution_count": 1,
   "metadata": {},
   "outputs": [
    {
     "name": "stdout",
     "output_type": "stream",
     "text": [
      "0    10\n",
      "1    20\n",
      "2    30\n",
      "3    40\n",
      "dtype: int64\n"
     ]
    }
   ],
   "source": [
    "# Creating a series\n",
    "import pandas as pd\n",
    "\n",
    "s = pd.Series([10,20,30,40])\n",
    "print(s)"
   ]
  },
  {
   "cell_type": "code",
   "execution_count": 4,
   "metadata": {},
   "outputs": [
    {
     "name": "stdout",
     "output_type": "stream",
     "text": [
      "a    10\n",
      "b    20\n",
      "c    30\n",
      "d    40\n",
      "dtype: int64\n"
     ]
    }
   ],
   "source": [
    "# Creating an index\n",
    "\n",
    "s = pd.Series([10,20,30,40], index=[\"a\",\"b\",\"c\",\"d\"])\n",
    "\n",
    "print(s)"
   ]
  },
  {
   "cell_type": "code",
   "execution_count": 6,
   "metadata": {},
   "outputs": [
    {
     "name": "stdout",
     "output_type": "stream",
     "text": [
      "a    20\n",
      "b    40\n",
      "c    60\n",
      "d    80\n",
      "dtype: int64\n"
     ]
    }
   ],
   "source": [
    "# creating a series from a dictionary\n",
    "\n",
    "d = pd.Series({'a':20,'b':40,'c':60,'d':80})\n",
    "\n",
    "print(d)"
   ]
  },
  {
   "cell_type": "code",
   "execution_count": 18,
   "metadata": {},
   "outputs": [
    {
     "name": "stdout",
     "output_type": "stream",
     "text": [
      "index: 40\n",
      "\n",
      "index 10\n",
      "\n",
      "2 elements: a    10\n",
      "b    20\n",
      "dtype: int64\n"
     ]
    }
   ],
   "source": [
    "# acessing elements and operations\n",
    "print('index:',d['b'])\n",
    "\n",
    "print('\\nindex',s['a'])\n",
    "\n",
    "print('\\n2 elements:',s[0:2])"
   ]
  },
  {
   "cell_type": "code",
   "execution_count": null,
   "metadata": {},
   "outputs": [
    {
     "name": "stdout",
     "output_type": "stream",
     "text": [
      "a    15\n",
      "b    25\n",
      "c    35\n",
      "d    45\n",
      "dtype: int64\n",
      "\n",
      "a     40\n",
      "b     80\n",
      "c    120\n",
      "d    160\n",
      "dtype: int64\n",
      "\n",
      "a    False\n",
      "b     True\n",
      "c     True\n",
      "d     True\n",
      "dtype: bool\n"
     ]
    }
   ],
   "source": [
    "# operations in Series\n",
    "\n",
    "print(s + 5) # in each element\n",
    "print()\n",
    "print(d * 2) # in each element\n",
    "print()\n",
    "print(d>20) #boolean"
   ]
  }
 ],
 "metadata": {
  "kernelspec": {
   "display_name": "Python 3",
   "language": "python",
   "name": "python3"
  },
  "language_info": {
   "codemirror_mode": {
    "name": "ipython",
    "version": 3
   },
   "file_extension": ".py",
   "mimetype": "text/x-python",
   "name": "python",
   "nbconvert_exporter": "python",
   "pygments_lexer": "ipython3",
   "version": "3.13.1"
  }
 },
 "nbformat": 4,
 "nbformat_minor": 2
}
