{
 "cells": [
  {
   "cell_type": "code",
   "execution_count": 12,
   "metadata": {},
   "outputs": [
    {
     "name": "stdout",
     "output_type": "stream",
     "text": [
      "Daniel\n",
      "23\n",
      "João Pessoa\n"
     ]
    }
   ],
   "source": [
    "# Dictionaries in Python\n",
    "import pandas as pd\n",
    "\n",
    "data = {\"name\": \"Daniel\", \"age\": 22, \"city\": \"Brasília\"}\n",
    "print(data[\"name\"])  # Output: Daniel\n",
    "\n",
    "data2 = {\"name\": \"Maria Eduarda\", \"age\": 23, \"city\": \"Brasília\"}\n",
    "print(data2['age'])\n",
    "\n",
    "data3 = {\"name\": \"Herden\", \"age\": 53, \"city\": \"João Pessoa\"}\n",
    "print(data3[\"city\"])"
   ]
  },
  {
   "cell_type": "code",
   "execution_count": 10,
   "metadata": {},
   "outputs": [
    {
     "data": {
      "text/plain": [
       "dict_keys(['name', 'age', 'city'])"
      ]
     },
     "execution_count": 10,
     "metadata": {},
     "output_type": "execute_result"
    }
   ],
   "source": [
    "# Main Methods\n",
    "data.keys()"
   ]
  },
  {
   "cell_type": "code",
   "execution_count": 11,
   "metadata": {},
   "outputs": [
    {
     "data": {
      "text/plain": [
       "dict_values(['Maria Eduarda', 23, 'Brasília'])"
      ]
     },
     "execution_count": 11,
     "metadata": {},
     "output_type": "execute_result"
    }
   ],
   "source": [
    "data2.values()"
   ]
  },
  {
   "cell_type": "code",
   "execution_count": 15,
   "metadata": {},
   "outputs": [
    {
     "data": {
      "text/plain": [
       "dict_items([('name', 'Herden'), ('age', 53), ('city', 'João Pessoa')])"
      ]
     },
     "execution_count": 15,
     "metadata": {},
     "output_type": "execute_result"
    }
   ],
   "source": [
    "data3.items()"
   ]
  },
  {
   "cell_type": "code",
   "execution_count": 28,
   "metadata": {},
   "outputs": [
    {
     "name": "stdout",
     "output_type": "stream",
     "text": [
      "     Name  Age            City\n",
      "0   Alice   25       São Paulo\n",
      "1     Bob   30  Rio de Janeiro\n",
      "2  Carlos   22  Belo Horizonte\n"
     ]
    }
   ],
   "source": [
    "# creating a dataframe with pandas\n",
    "data = {\n",
    "    \"Name\": [\"Alice\", \"Bob\", \"Carlos\"],\n",
    "    \"Age\": [25, 30, 22],\n",
    "    \"City\": [\"São Paulo\", \"Rio de Janeiro\", \"Belo Horizonte\"]\n",
    "}\n",
    "\n",
    "df = pd.DataFrame(data)\n",
    "print(df)\n"
   ]
  },
  {
   "cell_type": "code",
   "execution_count": 29,
   "metadata": {},
   "outputs": [
    {
     "name": "stdout",
     "output_type": "stream",
     "text": [
      "0     Alice\n",
      "1       Bob\n",
      "2    Carlos\n",
      "Name: Name, dtype: object\n"
     ]
    }
   ],
   "source": [
    "names = df['Name']\n",
    "print(names)"
   ]
  },
  {
   "cell_type": "code",
   "execution_count": 30,
   "metadata": {},
   "outputs": [
    {
     "name": "stdout",
     "output_type": "stream",
     "text": [
      "     Name            City\n",
      "0   Alice       São Paulo\n",
      "1     Bob  Rio de Janeiro\n",
      "2  Carlos  Belo Horizonte\n"
     ]
    }
   ],
   "source": [
    "colunas = df[['Name','City']]\n",
    "print(colunas)"
   ]
  },
  {
   "cell_type": "code",
   "execution_count": 34,
   "metadata": {},
   "outputs": [
    {
     "name": "stdout",
     "output_type": "stream",
     "text": [
      "    Name  Age            City\n",
      "0  Alice   25       São Paulo\n",
      "1    Bob   30  Rio de Janeiro\n"
     ]
    }
   ],
   "source": [
    "bigger_age = df[df[\"Age\"] > 23]\n",
    "\n",
    "print(bigger_age)"
   ]
  },
  {
   "cell_type": "code",
   "execution_count": 39,
   "metadata": {},
   "outputs": [
    {
     "name": "stdout",
     "output_type": "stream",
     "text": [
      "0    30\n",
      "1    35\n",
      "2    27\n",
      "Name: Age_in_5_years, dtype: int64\n"
     ]
    }
   ],
   "source": [
    "# add column\n",
    "df['Age_in_5_years'] = df['Age'] + 5\n",
    "print(df['Age_in_5_years'])"
   ]
  },
  {
   "cell_type": "code",
   "execution_count": 42,
   "metadata": {},
   "outputs": [
    {
     "name": "stdout",
     "output_type": "stream",
     "text": [
      "0     ALICE\n",
      "1       BOB\n",
      "2    CARLOS\n",
      "Name: Name, dtype: object\n"
     ]
    }
   ],
   "source": [
    "df['Name'] = df['Name'].str.upper()\n",
    "print(df['Name'])"
   ]
  },
  {
   "cell_type": "code",
   "execution_count": 44,
   "metadata": {},
   "outputs": [],
   "source": [
    "# Save\n",
    "df.to_csv('personal_data.csv',index=False)"
   ]
  }
 ],
 "metadata": {
  "kernelspec": {
   "display_name": "Python 3",
   "language": "python",
   "name": "python3"
  },
  "language_info": {
   "codemirror_mode": {
    "name": "ipython",
    "version": 3
   },
   "file_extension": ".py",
   "mimetype": "text/x-python",
   "name": "python",
   "nbconvert_exporter": "python",
   "pygments_lexer": "ipython3",
   "version": "3.13.1"
  }
 },
 "nbformat": 4,
 "nbformat_minor": 2
}
