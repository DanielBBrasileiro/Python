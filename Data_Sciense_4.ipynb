{
 "cells": [
  {
   "cell_type": "code",
   "execution_count": 3,
   "metadata": {},
   "outputs": [],
   "source": [
    "import pandas as pd\n",
    "\n",
    "# Creating the DataFrame\n",
    "data = {\n",
    "    'ID': [1, 2, 3, 4, 5],\n",
    "    'Name': ['Ana Souza', 'João Pedro', 'Carlos Lima', 'Luana Dias', 'Marina Lobo'],\n",
    "    'Department': ['Health', 'Education', 'Infrastructure', 'Social Assistance', 'Culture'],\n",
    "    'Efficiency': [88, 74, 91, 67, 82],\n",
    "    'Complaints': [3, 5, 1, 6, 2],\n",
    "    'Projects Completed': [7, 5, 10, 4, 6]\n",
    "}"
   ]
  },
  {
   "cell_type": "code",
   "execution_count": 6,
   "metadata": {},
   "outputs": [
    {
     "name": "stdout",
     "output_type": "stream",
     "text": [
      "   ID         Name         Department  Efficiency  Complaints  \\\n",
      "0   1    Ana Souza             Health          88           3   \n",
      "1   2   João Pedro          Education          74           5   \n",
      "2   3  Carlos Lima     Infrastructure          91           1   \n",
      "3   4   Luana Dias  Social Assistance          67           6   \n",
      "4   5  Marina Lobo            Culture          82           2   \n",
      "\n",
      "   Projects Completed  \n",
      "0                   7  \n",
      "1                   5  \n",
      "2                  10  \n",
      "3                   4  \n",
      "4                   6  \n"
     ]
    }
   ],
   "source": [
    "df = pd.DataFrame(data)\n",
    "\n",
    "print(df)"
   ]
  },
  {
   "cell_type": "code",
   "execution_count": 9,
   "metadata": {},
   "outputs": [
    {
     "name": "stdout",
     "output_type": "stream",
     "text": [
      "\n",
      "Carlos Efficiency: 91\n"
     ]
    }
   ],
   "source": [
    "# Using iloc: row 2, column 3 => Efficiency of Carlos Lima\n",
    "\n",
    "print(\"\\nCarlos Efficiency:\", df.iloc[2,3])"
   ]
  },
  {
   "cell_type": "code",
   "execution_count": 14,
   "metadata": {},
   "outputs": [
    {
     "name": "stdout",
     "output_type": "stream",
     "text": [
      "                   ID  Efficiency  Complaints  Projects Completed\n",
      "Department                                                       \n",
      "Health              1          88           3                   7\n",
      "Education           2          74           5                   5\n",
      "Infrastructure      3          91           1                  10\n",
      "Social Assistance   4          67           6                   4\n",
      "Culture             5          82           2                   6\n"
     ]
    }
   ],
   "source": [
    "# Using loc\n",
    "df.set_index('Department', inplace=True)\n",
    "\n",
    "print(df)"
   ]
  },
  {
   "cell_type": "code",
   "execution_count": 21,
   "metadata": {},
   "outputs": [
    {
     "name": "stdout",
     "output_type": "stream",
     "text": [
      "ID                     1\n",
      "Efficiency            88\n",
      "Complaints             3\n",
      "Projects Completed     7\n",
      "Name: Health, dtype: int64\n",
      "ID                     5\n",
      "Efficiency            82\n",
      "Complaints             2\n",
      "Projects Completed     6\n",
      "Name: Culture, dtype: int64\n"
     ]
    }
   ],
   "source": [
    "# Get all rows where Department = Health\n",
    "print(df.loc['Health'])\n",
    "\n",
    "# Get all rows where Department = Culture\n",
    "print(df.loc['Culture'])\n",
    "\n"
   ]
  }
 ],
 "metadata": {
  "kernelspec": {
   "display_name": "Python 3",
   "language": "python",
   "name": "python3"
  },
  "language_info": {
   "codemirror_mode": {
    "name": "ipython",
    "version": 3
   },
   "file_extension": ".py",
   "mimetype": "text/x-python",
   "name": "python",
   "nbconvert_exporter": "python",
   "pygments_lexer": "ipython3",
   "version": "3.13.1"
  }
 },
 "nbformat": 4,
 "nbformat_minor": 2
}
